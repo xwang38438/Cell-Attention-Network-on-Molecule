{
 "cells": [
  {
   "cell_type": "code",
   "execution_count": 1,
   "metadata": {},
   "outputs": [],
   "source": [
    "import pickle\n",
    "import argparse\n",
    "from utils.cell_lifting import graph_to_edge_index, get_rings\n",
    "from toponetx.classes.cell_complex import CellComplex\n",
    "import time\n",
    "import numpy as np"
   ]
  },
  {
   "cell_type": "code",
   "execution_count": 3,
   "metadata": {},
   "outputs": [
    {
     "ename": "TypeError",
     "evalue": "No registered converter was able to produce a C++ rvalue of type std::string from this Python object of type str",
     "output_type": "error",
     "traceback": [
      "\u001b[0;31m---------------------------------------------------------------------------\u001b[0m",
      "\u001b[0;31mTypeError\u001b[0m                                 Traceback (most recent call last)",
      "Cell \u001b[0;32mIn[3], line 2\u001b[0m\n\u001b[1;32m      1\u001b[0m \u001b[38;5;28;01mwith\u001b[39;00m \u001b[38;5;28mopen\u001b[39m(\u001b[38;5;124mf\u001b[39m\u001b[38;5;124m'\u001b[39m\u001b[38;5;124mdata/qm9_train_nx.pkl\u001b[39m\u001b[38;5;124m'\u001b[39m, \u001b[38;5;124m'\u001b[39m\u001b[38;5;124mrb\u001b[39m\u001b[38;5;124m'\u001b[39m) \u001b[38;5;28;01mas\u001b[39;00m f:\n\u001b[0;32m----> 2\u001b[0m     qm9_train \u001b[38;5;241m=\u001b[39m \u001b[43mpickle\u001b[49m\u001b[38;5;241;43m.\u001b[39;49m\u001b[43mload\u001b[49m\u001b[43m(\u001b[49m\u001b[43mf\u001b[49m\u001b[43m)\u001b[49m\n\u001b[1;32m      4\u001b[0m \u001b[38;5;28;01mwith\u001b[39;00m \u001b[38;5;28mopen\u001b[39m(\u001b[38;5;124mf\u001b[39m\u001b[38;5;124m'\u001b[39m\u001b[38;5;124mdata/qm9_test_nx.pkl\u001b[39m\u001b[38;5;124m'\u001b[39m, \u001b[38;5;124m'\u001b[39m\u001b[38;5;124mrb\u001b[39m\u001b[38;5;124m'\u001b[39m) \u001b[38;5;28;01mas\u001b[39;00m f:\n\u001b[1;32m      5\u001b[0m     test_mols \u001b[38;5;241m=\u001b[39m pickle\u001b[38;5;241m.\u001b[39mload(f)\n",
      "File \u001b[0;32m~/miniconda3/envs/tmx/lib/python3.11/site-packages/rdkit/Chem/__init__.py:16\u001b[0m\n\u001b[1;32m     10\u001b[0m \u001b[38;5;124;03m\"\"\" A module for molecules and stuff\u001b[39;00m\n\u001b[1;32m     11\u001b[0m \n\u001b[1;32m     12\u001b[0m \u001b[38;5;124;03m see Chem/index.html in the doc tree for documentation\u001b[39;00m\n\u001b[1;32m     13\u001b[0m \n\u001b[1;32m     14\u001b[0m \u001b[38;5;124;03m\"\"\"\u001b[39;00m\n\u001b[1;32m     15\u001b[0m \u001b[38;5;28;01mfrom\u001b[39;00m \u001b[38;5;21;01mrdkit\u001b[39;00m \u001b[38;5;28;01mimport\u001b[39;00m DataStructs, RDConfig, rdBase\n\u001b[0;32m---> 16\u001b[0m \u001b[38;5;28;01mfrom\u001b[39;00m \u001b[38;5;21;01mrdkit\u001b[39;00m\u001b[38;5;21;01m.\u001b[39;00m\u001b[38;5;21;01mChem\u001b[39;00m \u001b[38;5;28;01mimport\u001b[39;00m rdchem\n\u001b[1;32m     17\u001b[0m \u001b[38;5;28;01mfrom\u001b[39;00m \u001b[38;5;21;01mrdkit\u001b[39;00m\u001b[38;5;21;01m.\u001b[39;00m\u001b[38;5;21;01mGeometry\u001b[39;00m \u001b[38;5;28;01mimport\u001b[39;00m rdGeometry\n\u001b[1;32m     19\u001b[0m _HasSubstructMatchStr \u001b[38;5;241m=\u001b[39m rdchem\u001b[38;5;241m.\u001b[39m_HasSubstructMatchStr\n",
      "\u001b[0;31mTypeError\u001b[0m: No registered converter was able to produce a C++ rvalue of type std::string from this Python object of type str"
     ]
    }
   ],
   "source": [
    "with open(f'data/qm9_train_nx.pkl', 'rb') as f:\n",
    "    qm9_train = pickle.load(f)\n",
    "    \n",
    "with open(f'data/qm9_test_nx.pkl', 'rb') as f:\n",
    "    test_mols = pickle.load(f)\n",
    "    \n",
    "# # extract ring from each molecular graph \n",
    "# mol_train_rings = []\n",
    "# mol_test_rings = []\n",
    "\n",
    "# qm9_train_cell_complex = []\n",
    "# qm9_test_cell_complex = []\n",
    "\n",
    "# for graph in qm9_train:\n",
    "#     attribute = {'gap': graph.graph['gap'], 'U0': graph.graph['U0']}\n",
    "#     edge_index = graph_to_edge_index(graph)\n",
    "#     if edge_index.nelement() == 0:\n",
    "#         mol_test_rings.append([])\n",
    "#         continue\n",
    "#     rings = get_rings(edge_index)\n",
    "#     # turn each molecular graph into a cell complex \n",
    "#     cell_complex = CellComplex(graph, attribute)\n",
    "#     cell_complex.add_cells_from(rings, rank = 2)\n",
    "    \n",
    "#     mol_train_rings.append(rings)\n",
    "#     qm9_train_cell_complex.append(cell_complex)\n",
    "    \n",
    "# for graph in test_mols:\n",
    "#     attribute = {'gap': graph.graph['gap'], 'U0': graph.graph['U0']}\n",
    "#     edge_index = graph_to_edge_index(graph)\n",
    "#     if edge_index.nelement() == 0:\n",
    "#         mol_test_rings.append([])\n",
    "#         continue\n",
    "#     rings = get_rings(edge_index)\n",
    "#     cell_complex = CellComplex(graph, attribute)\n",
    "#     cell_complex.add_cells_from(rings, rank = 2)\n",
    "    \n",
    "#     mol_test_rings.append(rings)\n",
    "#     qm9_test_cell_complex.append(cell_complex)\n",
    "    \n",
    "# with open(f'data/qm9_train_cell_complex.pkl', 'wb') as f:\n",
    "#     pickle.dump(qm9_train_cell_complex, f)\n",
    "# with open(f'data/qm9_test_cell_complex.pkl', 'wb') as f:\n",
    "#     pickle.dump(qm9_test_cell_complex, f)"
   ]
  },
  {
   "cell_type": "code",
   "execution_count": 8,
   "metadata": {},
   "outputs": [
    {
     "ename": "TypeError",
     "evalue": "No registered converter was able to produce a C++ rvalue of type std::string from this Python object of type str",
     "output_type": "error",
     "traceback": [
      "\u001b[0;31m---------------------------------------------------------------------------\u001b[0m",
      "\u001b[0;31mTypeError\u001b[0m                                 Traceback (most recent call last)",
      "Cell \u001b[0;32mIn[8], line 1\u001b[0m\n\u001b[0;32m----> 1\u001b[0m \u001b[38;5;28;01mfrom\u001b[39;00m \u001b[38;5;21;01mrdkit\u001b[39;00m \u001b[38;5;28;01mimport\u001b[39;00m Chem\n",
      "File \u001b[0;32m~/miniconda3/envs/tmx/lib/python3.11/site-packages/rdkit/Chem/__init__.py:16\u001b[0m\n\u001b[1;32m     10\u001b[0m \u001b[38;5;124;03m\"\"\" A module for molecules and stuff\u001b[39;00m\n\u001b[1;32m     11\u001b[0m \n\u001b[1;32m     12\u001b[0m \u001b[38;5;124;03m see Chem/index.html in the doc tree for documentation\u001b[39;00m\n\u001b[1;32m     13\u001b[0m \n\u001b[1;32m     14\u001b[0m \u001b[38;5;124;03m\"\"\"\u001b[39;00m\n\u001b[1;32m     15\u001b[0m \u001b[38;5;28;01mfrom\u001b[39;00m \u001b[38;5;21;01mrdkit\u001b[39;00m \u001b[38;5;28;01mimport\u001b[39;00m DataStructs, RDConfig, rdBase\n\u001b[0;32m---> 16\u001b[0m \u001b[38;5;28;01mfrom\u001b[39;00m \u001b[38;5;21;01mrdkit\u001b[39;00m\u001b[38;5;21;01m.\u001b[39;00m\u001b[38;5;21;01mChem\u001b[39;00m \u001b[38;5;28;01mimport\u001b[39;00m rdchem\n\u001b[1;32m     17\u001b[0m \u001b[38;5;28;01mfrom\u001b[39;00m \u001b[38;5;21;01mrdkit\u001b[39;00m\u001b[38;5;21;01m.\u001b[39;00m\u001b[38;5;21;01mGeometry\u001b[39;00m \u001b[38;5;28;01mimport\u001b[39;00m rdGeometry\n\u001b[1;32m     19\u001b[0m _HasSubstructMatchStr \u001b[38;5;241m=\u001b[39m rdchem\u001b[38;5;241m.\u001b[39m_HasSubstructMatchStr\n",
      "\u001b[0;31mTypeError\u001b[0m: No registered converter was able to produce a C++ rvalue of type std::string from this Python object of type str"
     ]
    }
   ],
   "source": [
    "from rdkit import Chem"
   ]
  },
  {
   "cell_type": "code",
   "execution_count": null,
   "metadata": {},
   "outputs": [],
   "source": [
    "with open(f'data/qm9_test_cell_complex.pkl', 'rb') as f:\n",
    "    qm9_test_cell_complex = pickle.load(f)\n",
    "    \n",
    "cell_complex = qm9_test_cell_complex[0]   "
   ]
  },
  {
   "cell_type": "code",
   "execution_count": null,
   "metadata": {},
   "outputs": [
    {
     "name": "stdout",
     "output_type": "stream",
     "text": [
      "{'gap': 0.3028, 'U0': -401.011905}\n",
      "example of node attributes\n",
      "{0: 'C', 1: 'C', 2: 'O', 3: 'C', 4: 'O', 5: 'C', 6: 'C', 7: 'N'}\n",
      "{0: 6, 1: 6, 2: 8, 3: 6, 4: 8, 5: 6, 6: 6, 7: 7}\n",
      "edge attributes\n",
      "{(0, 1): 1, (1, 2): 1, (1, 3): 1, (3, 4): 1, (3, 5): 1, (5, 6): 1, (6, 7): 3}\n"
     ]
    }
   ],
   "source": [
    "# value we want to predict\n",
    "print(cell_complex.name)\n",
    "\n",
    "# node attributes\n",
    "print('example of node attributes')\n",
    "print(cell_complex.get_node_attributes('label'))\n",
    "print(cell_complex.get_node_attributes('atomic_num'))\n",
    "# edge attributes\n",
    "print('edge attributes')\n",
    "print(cell_complex.get_edge_attributes('label'))\n",
    "print()\n"
   ]
  },
  {
   "cell_type": "code",
   "execution_count": null,
   "metadata": {},
   "outputs": [
    {
     "data": {
      "text/plain": [
       "CellView([])"
      ]
     },
     "execution_count": 18,
     "metadata": {},
     "output_type": "execute_result"
    }
   ],
   "source": []
  },
  {
   "cell_type": "code",
   "execution_count": null,
   "metadata": {},
   "outputs": [
    {
     "name": "stdout",
     "output_type": "stream",
     "text": [
      "adjacency matrix\n",
      "[[0. 1. 0. 0. 0. 0. 0. 0.]\n",
      " [1. 0. 1. 1. 0. 0. 0. 0.]\n",
      " [0. 1. 0. 0. 0. 0. 0. 0.]\n",
      " [0. 1. 0. 0. 1. 1. 0. 0.]\n",
      " [0. 0. 0. 1. 0. 0. 0. 0.]\n",
      " [0. 0. 0. 1. 0. 0. 1. 0.]\n",
      " [0. 0. 0. 0. 0. 1. 0. 1.]\n",
      " [0. 0. 0. 0. 0. 0. 1. 0.]]\n",
      "lower adjacency matrix of bonds\n",
      "[[ 2. -1. -1.  0.  0.  0.  0.]\n",
      " [-1.  2.  1.  0.  0.  0.  0.]\n",
      " [-1.  1.  2. -1. -1.  0.  0.]\n",
      " [ 0.  0. -1.  2.  1.  0.  0.]\n",
      " [ 0.  0. -1.  1.  2. -1.  0.]\n",
      " [ 0.  0.  0.  0. -1.  2. -1.]\n",
      " [ 0.  0.  0.  0.  0. -1.  2.]]\n",
      "upper adjacency matrix of bonds\n",
      "tensor([[0., 0., 0., 0., 0., 0., 0.],\n",
      "        [0., 0., 0., 0., 0., 0., 0.],\n",
      "        [0., 0., 0., 0., 0., 0., 0.],\n",
      "        [0., 0., 0., 0., 0., 0., 0.],\n",
      "        [0., 0., 0., 0., 0., 0., 0.],\n",
      "        [0., 0., 0., 0., 0., 0., 0.],\n",
      "        [0., 0., 0., 0., 0., 0., 0.]], dtype=torch.float64)\n"
     ]
    }
   ],
   "source": [
    "import torch\n",
    "print('adjacency matrix')\n",
    "a = cell_complex.adjacency_matrix(rank=0).todense()\n",
    "print(a)\n",
    "print('lower adjacency matrix of bonds')\n",
    "print(cell_complex.down_laplacian_matrix(rank=1).todense())\n",
    "print('upper adjacency matrix of bonds')\n",
    "\n",
    "lower_neighborhood_t = cell_complex.down_laplacian_matrix(rank=1)\n",
    "\n",
    "try:\n",
    "    upper_neighborhood_t = cell_complex.up_laplacian_matrix(rank=1).todense()\n",
    "except:\n",
    "    upper_neighborhood_t = np.zeros(\n",
    "        (lower_neighborhood_t.shape[0], lower_neighborhood_t.shape[0])\n",
    "    )\n",
    "    upper_neighborhood_t = torch.from_numpy(upper_neighborhood_t)\n",
    "print(upper_neighborhood_t)"
   ]
  }
 ],
 "metadata": {
  "kernelspec": {
   "display_name": "tmx",
   "language": "python",
   "name": "python3"
  },
  "language_info": {
   "codemirror_mode": {
    "name": "ipython",
    "version": 3
   },
   "file_extension": ".py",
   "mimetype": "text/x-python",
   "name": "python",
   "nbconvert_exporter": "python",
   "pygments_lexer": "ipython3",
   "version": "3.11.3"
  }
 },
 "nbformat": 4,
 "nbformat_minor": 2
}
