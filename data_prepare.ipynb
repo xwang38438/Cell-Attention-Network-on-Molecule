{
 "cells": [
  {
   "cell_type": "code",
   "execution_count": 4,
   "metadata": {},
   "outputs": [],
   "source": [
    "import pickle\n",
    "import torch\n",
    "import argparse\n",
    "#from utils.cell_lifting import graph_to_edge_index, get_rings\n",
    "from toponetx.classes.cell_complex import CellComplex\n",
    "import time\n",
    "import numpy as np"
   ]
  },
  {
   "cell_type": "code",
   "execution_count": 13,
   "metadata": {},
   "outputs": [],
   "source": [
    "with open(f'data/qm9_test_nx.pkl', 'rb') as f:\n",
    "    test_mols = pickle.load(f)\n",
    "    \n",
    "mol = test_mols[1]"
   ]
  },
  {
   "cell_type": "code",
   "execution_count": 14,
   "metadata": {},
   "outputs": [
    {
     "data": {
      "text/plain": [
       "tensor([[0, 1, 2, 2, 2, 5, 5, 6],\n",
       "        [1, 2, 3, 4, 5, 6, 7, 7]])"
      ]
     },
     "execution_count": 14,
     "metadata": {},
     "output_type": "execute_result"
    }
   ],
   "source": [
    "def graph_to_edge_index(G):\n",
    "    edges = list(G.edges())\n",
    "    edge_index = torch.tensor(edges, dtype=torch.long).t().contiguous()\n",
    "    return edge_index\n",
    "\n",
    "graph_to_edge_index(mol)"
   ]
  },
  {
   "cell_type": "code",
   "execution_count": 20,
   "metadata": {},
   "outputs": [
    {
     "data": {
      "text/plain": [
       "EdgeDataView([(0, 1, {'label': 1}), (1, 2, {'label': 1}), (2, 3, {'label': 1}), (2, 4, {'label': 1}), (2, 5, {'label': 1}), (5, 6, {'label': 1}), (5, 7, {'label': 1}), (6, 7, {'label': 1})])"
      ]
     },
     "execution_count": 20,
     "metadata": {},
     "output_type": "execute_result"
    }
   ],
   "source": [
    "mol.edges(data=True)"
   ]
  },
  {
   "cell_type": "code",
   "execution_count": null,
   "metadata": {},
   "outputs": [],
   "source": [
    "with open(f'data/qm9_test_cell_complex.pkl', 'rb') as f:\n",
    "    qm9_test_cell_complex = pickle.load(f)\n",
    "    \n",
    "cell_complex = qm9_test_cell_complex[0]   "
   ]
  },
  {
   "cell_type": "code",
   "execution_count": null,
   "metadata": {},
   "outputs": [
    {
     "name": "stdout",
     "output_type": "stream",
     "text": [
      "{'gap': 0.3028, 'U0': -401.011905}\n",
      "example of node attributes\n",
      "{0: 'C', 1: 'C', 2: 'O', 3: 'C', 4: 'O', 5: 'C', 6: 'C', 7: 'N'}\n",
      "{0: 6, 1: 6, 2: 8, 3: 6, 4: 8, 5: 6, 6: 6, 7: 7}\n",
      "edge attributes\n",
      "{(0, 1): 1, (1, 2): 1, (1, 3): 1, (3, 4): 1, (3, 5): 1, (5, 6): 1, (6, 7): 3}\n"
     ]
    }
   ],
   "source": [
    "# value we want to predict\n",
    "print(cell_complex.name)\n",
    "\n",
    "# node attributes\n",
    "print('example of node attributes')\n",
    "print(cell_complex.get_node_attributes('label'))\n",
    "print(cell_complex.get_node_attributes('atomic_num'))\n",
    "# edge attributes\n",
    "print('edge attributes')\n",
    "print(cell_complex.get_edge_attributes('label'))\n",
    "print()\n"
   ]
  },
  {
   "cell_type": "code",
   "execution_count": null,
   "metadata": {},
   "outputs": [
    {
     "data": {
      "text/plain": [
       "CellView([])"
      ]
     },
     "execution_count": 18,
     "metadata": {},
     "output_type": "execute_result"
    }
   ],
   "source": []
  },
  {
   "cell_type": "code",
   "execution_count": null,
   "metadata": {},
   "outputs": [
    {
     "name": "stdout",
     "output_type": "stream",
     "text": [
      "adjacency matrix\n",
      "[[0. 1. 0. 0. 0. 0. 0. 0.]\n",
      " [1. 0. 1. 1. 0. 0. 0. 0.]\n",
      " [0. 1. 0. 0. 0. 0. 0. 0.]\n",
      " [0. 1. 0. 0. 1. 1. 0. 0.]\n",
      " [0. 0. 0. 1. 0. 0. 0. 0.]\n",
      " [0. 0. 0. 1. 0. 0. 1. 0.]\n",
      " [0. 0. 0. 0. 0. 1. 0. 1.]\n",
      " [0. 0. 0. 0. 0. 0. 1. 0.]]\n",
      "lower adjacency matrix of bonds\n",
      "[[ 2. -1. -1.  0.  0.  0.  0.]\n",
      " [-1.  2.  1.  0.  0.  0.  0.]\n",
      " [-1.  1.  2. -1. -1.  0.  0.]\n",
      " [ 0.  0. -1.  2.  1.  0.  0.]\n",
      " [ 0.  0. -1.  1.  2. -1.  0.]\n",
      " [ 0.  0.  0.  0. -1.  2. -1.]\n",
      " [ 0.  0.  0.  0.  0. -1.  2.]]\n",
      "upper adjacency matrix of bonds\n",
      "tensor([[0., 0., 0., 0., 0., 0., 0.],\n",
      "        [0., 0., 0., 0., 0., 0., 0.],\n",
      "        [0., 0., 0., 0., 0., 0., 0.],\n",
      "        [0., 0., 0., 0., 0., 0., 0.],\n",
      "        [0., 0., 0., 0., 0., 0., 0.],\n",
      "        [0., 0., 0., 0., 0., 0., 0.],\n",
      "        [0., 0., 0., 0., 0., 0., 0.]], dtype=torch.float64)\n"
     ]
    }
   ],
   "source": [
    "import torch\n",
    "print('adjacency matrix')\n",
    "a = cell_complex.adjacency_matrix(rank=0).todense()\n",
    "print(a)\n",
    "print('lower adjacency matrix of bonds')\n",
    "print(cell_complex.down_laplacian_matrix(rank=1).todense())\n",
    "print('upper adjacency matrix of bonds')\n",
    "\n",
    "lower_neighborhood_t = cell_complex.down_laplacian_matrix(rank=1)\n",
    "\n",
    "try:\n",
    "    upper_neighborhood_t = cell_complex.up_laplacian_matrix(rank=1).todense()\n",
    "except:\n",
    "    upper_neighborhood_t = np.zeros(\n",
    "        (lower_neighborhood_t.shape[0], lower_neighborhood_t.shape[0])\n",
    "    )\n",
    "    upper_neighborhood_t = torch.from_numpy(upper_neighborhood_t)\n",
    "print(upper_neighborhood_t)"
   ]
  }
 ],
 "metadata": {
  "kernelspec": {
   "display_name": "tmx",
   "language": "python",
   "name": "python3"
  },
  "language_info": {
   "codemirror_mode": {
    "name": "ipython",
    "version": 3
   },
   "file_extension": ".py",
   "mimetype": "text/x-python",
   "name": "python",
   "nbconvert_exporter": "python",
   "pygments_lexer": "ipython3",
   "version": "3.11.3"
  }
 },
 "nbformat": 4,
 "nbformat_minor": 2
}
