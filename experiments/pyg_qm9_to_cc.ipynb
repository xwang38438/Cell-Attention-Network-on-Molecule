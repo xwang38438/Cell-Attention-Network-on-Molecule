{
 "cells": [
  {
   "cell_type": "code",
   "execution_count": 1,
   "metadata": {},
   "outputs": [
    {
     "name": "stdout",
     "output_type": "stream",
     "text": [
      "DiGraph with 15 nodes and 32 edges\n"
     ]
    }
   ],
   "source": [
    "from torch_geometric.datasets import QM9\n",
    "from torch_geometric.utils.convert import to_networkx\n",
    "dataset = QM9(root='./data/QM9/' )\n",
    "dataset = dataset.shuffle()\n",
    "\n",
    "\n"
   ]
  },
  {
   "cell_type": "code",
   "execution_count": 13,
   "metadata": {},
   "outputs": [
    {
     "name": "stdout",
     "output_type": "stream",
     "text": [
      "<class 'str'>\n"
     ]
    }
   ],
   "source": [
    "print(type(dataset[0].smiles))"
   ]
  },
  {
   "cell_type": "code",
   "execution_count": 14,
   "metadata": {},
   "outputs": [],
   "source": [
    "# extract smiles and gap from dataset\n",
    "smiles = []\n",
    "gap = []\n",
    "\n",
    "for i in range(len(dataset)):\n",
    "    smiles.append(dataset[i].smiles)\n",
    "    gap.append(dataset[0].y[0][4].item())"
   ]
  },
  {
   "cell_type": "code",
   "execution_count": 17,
   "metadata": {},
   "outputs": [],
   "source": [
    "# store smiles and gap in a dataframe\n",
    "import pandas as pd\n",
    "df = pd.DataFrame({'SMILES1':smiles, 'gap':gap})\n",
    "\n",
    "# save dataframe as csv file\n",
    "df.to_csv('new_qm9.csv', index=False)"
   ]
  }
 ],
 "metadata": {
  "kernelspec": {
   "display_name": "tmx_gpu",
   "language": "python",
   "name": "python3"
  },
  "language_info": {
   "codemirror_mode": {
    "name": "ipython",
    "version": 3
   },
   "file_extension": ".py",
   "mimetype": "text/x-python",
   "name": "python",
   "nbconvert_exporter": "python",
   "pygments_lexer": "ipython3",
   "version": "3.11.3"
  }
 },
 "nbformat": 4,
 "nbformat_minor": 2
}
